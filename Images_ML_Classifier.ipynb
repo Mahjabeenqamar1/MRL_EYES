{
  "nbformat": 4,
  "nbformat_minor": 0,
  "metadata": {
    "colab": {
      "provenance": [],
      "include_colab_link": true
    },
    "kernelspec": {
      "name": "python3",
      "display_name": "Python 3"
    },
    "language_info": {
      "name": "python"
    },
    "accelerator": "GPU"
  },
  "cells": [
    {
      "cell_type": "markdown",
      "metadata": {
        "id": "view-in-github",
        "colab_type": "text"
      },
      "source": [
        "<a href=\"https://colab.research.google.com/github/Mahjabeenqamar1/MRL_EYES/blob/main/Images_ML_Classifier.ipynb\" target=\"_parent\"><img src=\"https://colab.research.google.com/assets/colab-badge.svg\" alt=\"Open In Colab\"/></a>"
      ]
    },
    {
      "cell_type": "markdown",
      "source": [
        "## Support Vector Classifier"
      ],
      "metadata": {
        "id": "yE4hAU5h2K_V"
      }
    },
    {
      "cell_type": "code",
      "source": [
        "# Import the Libaray\n",
        "import pandas as pd\n",
        "import numpy as np\n",
        "\n",
        "# Read the CSV file '10000'\n",
        "data = pd.read_csv('/content/drive/MyDrive/PIAIC/mrlEyes_2018_01/data.csv')[:10000]\n",
        "#Scaler form\n",
        "from sklearn.preprocessing import StandardScaler\n",
        "\n",
        "def scale_data(data):\n",
        "    scaler = StandardScaler()\n",
        "    scaler.fit(data)\n",
        "    scaled_data = scaler.transform(data)\n",
        "    return scaled_data\n",
        "\n",
        "data = scale_data(data)\n",
        "\n",
        "#Read the label csv file \n",
        "label = pd.read_csv('/content/drive/MyDrive/PIAIC/mrlEyes_2018_01/labels.csv')[:10000]\n",
        "\n",
        "#split data \n",
        "x = data\n",
        "y = label['eye_state']\n",
        "\n",
        "#Train , Test and  Split data\n",
        "from sklearn.model_selection import train_test_split\n",
        "x_train,x_test,y_train,y_test=train_test_split(x,y,test_size=0.20)\n",
        "\n",
        "# Fit the model SVC\n",
        "from sklearn.svm import SVC\n",
        "svclassifier = SVC(kernel='rbf')\n",
        "svclassifier.fit(x_train,y_train)\n",
        "\n",
        "# Predic the Y_Test data\n",
        "y_pred=svclassifier.predict(x_test)\n",
        "print(y_pred)\n",
        "\n",
        "# comparing actual response values (y_test) with predicted response values (y_pred)\n",
        "from sklearn import metrics\n",
        "print(\"SVClassifier model accuracy(in %):\", metrics.accuracy_score(y_test, y_pred)*100)\n",
        "\n",
        "#cross_val_score\n",
        "from sklearn.model_selection import cross_val_score\n",
        "accuracies = cross_val_score(estimator = svclassifier, X = x_train, y = y_train, cv = 10)\n",
        "print(\"SVClassifier model accuracy(in %):\", accuracies.mean()*100)\n",
        "print(\"SVClassifier model accuracy(in %):\", accuracies.std()*100)\n",
        "\n",
        "#precision_score\n",
        "from sklearn.metrics import precision_score\n",
        "precision_score_svc = precision_score(y_test, y_pred, average='macro')\n",
        "print(precision_score_svc)\n",
        "\n",
        "#F1 score\n",
        "from sklearn.metrics import f1_score\n",
        "f1_score_svc = f1_score(y_test, y_pred, average='macro')\n",
        "print(f1_score_svc)\n",
        "\n",
        "# recall score\n",
        "from sklearn.metrics import recall_score\n",
        "recall_score_svc = recall_score(y_test, y_pred, average='macro')\n",
        "print(recall_score_svc)\n",
        "recall_score_svc = metrics.recall_score(y_test, y_pred, average='macro')\n",
        "print(recall_score_svc)\n",
        "\n",
        "#classification_report,confusion_matrix\n",
        "from sklearn.metrics import classification_report,confusion_matrix\n",
        "print(classification_report(y_test, y_pred))\n",
        "print(confusion_matrix(y_test, y_pred))\n"
      ],
      "metadata": {
        "id": "C9D6b5TxVjFb",
        "colab": {
          "base_uri": "https://localhost:8080/"
        },
        "outputId": "02633717-2bd8-41f7-e291-7299f27efe94"
      },
      "execution_count": null,
      "outputs": [
        {
          "output_type": "stream",
          "name": "stdout",
          "text": [
            "[0 0 0 ... 0 0 1]\n",
            "SVClassifier model accuracy(in %): 98.1\n",
            "SVClassifier model accuracy(in %): 97.85000000000001\n",
            "SVClassifier model accuracy(in %): 0.46029881598804967\n",
            "0.976085379407339\n"
          ]
        }
      ]
    },
    {
      "cell_type": "code",
      "source": [
        "print(\"SVClassifier model accuracy for metrics(in %):\", metrics.accuracy_score(y_test, y_pred)*100)\n",
        "print(\"SVClassifier model accuracy for cvs_mean (in %):\", accuracies.mean()*100)\n",
        "print(\"SVClassifier model accuracy for cvs_std(in %):\", accuracies.std()*100)\n"
      ],
      "metadata": {
        "colab": {
          "base_uri": "https://localhost:8080/"
        },
        "id": "jnFIF-3boG75",
        "outputId": "406518bf-c368-4115-d98d-40a7766a24e2"
      },
      "execution_count": null,
      "outputs": [
        {
          "output_type": "stream",
          "name": "stdout",
          "text": [
            "SVClassifier model accuracy for metrics(in %): 98.1\n",
            "SVClassifier model accuracy for cvs_mean (in %): 97.85000000000001\n",
            "SVClassifier model accuracy for cvs_std(in %): 0.46029881598804967\n"
          ]
        }
      ]
    },
    {
      "cell_type": "code",
      "source": [
        "#F1 score\n",
        "from sklearn.metrics import f1_score\n",
        "f1_score_svc = f1_score(y_test, y_pred, average='macro')\n",
        "print(\"SVClassifier model accuracy for f1_score_(in %):\",f1_score_svc)\n",
        "\n",
        "# recall score\n",
        "from sklearn.metrics import recall_score\n",
        "recall_score_svc = recall_score(y_test, y_pred, average='macro')\n",
        "\n",
        "recall_score_svc = metrics.recall_score(y_test, y_pred, average='macro')\n",
        "print(\"SVClassifier model accuracy for recall_score_svc(in %):\",recall_score_svc)\n",
        "#classification_report,confusion_matrix\n",
        "from sklearn.metrics import classification_report,confusion_matrix\n",
        "print(classification_report(y_test, y_pred))\n",
        "print(confusion_matrix(y_test, y_pred))\n"
      ],
      "metadata": {
        "colab": {
          "base_uri": "https://localhost:8080/"
        },
        "id": "McgmeOE9rHJe",
        "outputId": "a48e3519-2f54-4b2d-9507-c18652c07eee"
      },
      "execution_count": null,
      "outputs": [
        {
          "output_type": "stream",
          "name": "stdout",
          "text": [
            "SVClassifier model accuracy for f1_score_(in %): 0.9655234984576302\n",
            "SVClassifier model accuracy for recall_score_svc(in %): 0.9556918300984409\n",
            "              precision    recall  f1-score   support\n",
            "\n",
            "           0       0.98      0.99      0.99      1661\n",
            "           1       0.97      0.92      0.94       339\n",
            "\n",
            "    accuracy                           0.98      2000\n",
            "   macro avg       0.98      0.96      0.97      2000\n",
            "weighted avg       0.98      0.98      0.98      2000\n",
            "\n",
            "[[1651   10]\n",
            " [  28  311]]\n"
          ]
        }
      ]
    },
    {
      "cell_type": "code",
      "source": [
        "# ccreate a graph for confusion matrix\n",
        "from sklearn.metrics import confusion_matrix\n",
        "import matplotlib.pyplot as plt\n",
        "import itertools\n",
        "\n",
        "def plot_confusion_matrix(cm, classes,\n",
        "                          normalize=False,\n",
        "                          title='Confusion matrix',\n",
        "                          cmap=plt.cm.Blues):\n",
        "    \"\"\"\n",
        "    This function prints and plots the confusion matrix.\n",
        "    Normalization can be applied by setting `normalize=True`.\n",
        "    \"\"\"\n",
        "    if normalize:\n",
        "        cm = cm.astype('float') / cm.sum(axis=1)[:, np.newaxis]\n",
        "        print(\"Normalized confusion matrix\")\n",
        "    else:\n",
        "        print('Confusion matrix, without normalization')\n",
        "\n",
        "    print(cm)\n",
        "\n",
        "    plt.imshow(cm, interpolation='nearest', cmap=cmap)\n",
        "    plt.title(title)\n",
        "    plt.colorbar()\n",
        "    tick_marks = np.arange(len(classes))\n",
        "    plt.xticks(tick_marks, classes, rotation=45)\n",
        "    plt.yticks(tick_marks, classes)\n",
        "\n",
        "    fmt = '.2f' if normalize else 'd'\n",
        "    thresh = cm.max() / 2.\n",
        "    for i, j in itertools.product(range(cm.shape[0]), range(cm.shape[1])):\n",
        "        plt.text(j, i, format(cm[i, j], fmt),\n",
        "                 horizontalalignment=\"center\",\n",
        "                 color=\"white\" if cm[i, j] > thresh else \"black\")\n",
        "\n",
        "    plt.tight_layout()\n",
        "    plt.ylabel('True label')\n",
        "    plt.xlabel('Predicted label')\n",
        "    \n",
        "plot_confusion_matrix(confusion_matrix(y_test, y_pred), classes=['Close','Open'])"
      ],
      "metadata": {
        "colab": {
          "base_uri": "https://localhost:8080/",
          "height": 366
        },
        "id": "j2WLU1gls6Mi",
        "outputId": "ceb1c14c-019d-4ccc-9a61-fe427a41dad2"
      },
      "execution_count": null,
      "outputs": [
        {
          "output_type": "stream",
          "name": "stdout",
          "text": [
            "Confusion matrix, without normalization\n",
            "[[1651   10]\n",
            " [  28  311]]\n"
          ]
        },
        {
          "output_type": "display_data",
          "data": {
            "text/plain": [
              "<Figure size 432x288 with 2 Axes>"
            ],
            "image/png": "[encoded data removed]"
          },
          "metadata": {
            "needs_background": "light"
          }
        }
      ]
    },
    {
      "cell_type": "markdown",
      "source": [
        "##RandomForestClassifier"
      ],
      "metadata": {
        "id": "i1ArHRP8vbYI"
      }
    },
    {
      "cell_type": "code",
      "source": [
        "# Import the Libaray\n",
        "import pandas as pd\n",
        "import numpy as np\n",
        "\n",
        "# Read the CSV file \n",
        "data = pd.read_csv('/content/drive/MyDrive/PIAIC/mrlEyes_2018_01/data.csv')[25000:50000]\n",
        "#Scaler form\n",
        "from sklearn.preprocessing import StandardScaler\n",
        "\n",
        "def scale_data(data):\n",
        "    scaler = StandardScaler()\n",
        "    scaler.fit(data)\n",
        "    scaled_data = scaler.transform(data)\n",
        "    return scaled_data\n",
        "\n",
        "#Read the label csv file \n",
        "label = pd.read_csv('/content/drive/MyDrive/PIAIC/mrlEyes_2018_01/labels.csv')[25000:50000]\n",
        "\n",
        "#split data \n",
        "x = data\n",
        "y = label['sensor_id']\n",
        "\n",
        "#Train , Test and  Split data\n",
        "from sklearn.model_selection import train_test_split\n",
        "x_train,x_test,y_train,y_test=train_test_split(x,y,test_size=0.20)\n",
        "#Fit the RandomForestClassifier model\n",
        "from sklearn.ensemble import RandomForestClassifier\n",
        "model = RandomForestClassifier(max_depth=2, random_state=0)\n",
        "model.fit(x_train,y_train)\n",
        "\n",
        "# Predic the Y_Test data\n",
        "y_pred=model.predict(x_test)\n",
        "print(y_pred)\n",
        "\n",
        "# comparing actual response values (y_test) with predicted response values (y_pred)\n",
        "from sklearn import metrics\n",
        "print(\"RandomForestClassifier model accuracy(in %):\", metrics.accuracy_score(y_test, y_pred)*100)\n",
        "\n",
        "#cross_val_score\n",
        "from sklearn.model_selection import cross_val_score\n",
        "accuracies = cross_val_score(estimator = model, X = x_train, y = y_train, cv = 10)\n",
        "print(\"RandomForestClassifier model accuracy(in %):\", accuracies.mean()*100)\n",
        "print(\"RandomForestClassifier model accuracy(in %):\", accuracies.std()*100)\n",
        "\n",
        "#precision_score\n",
        "from sklearn.metrics import precision_score\n",
        "precision_score_svc = precision_score(y_test, y_pred, average='macro')\n",
        "print(precision_score_svc)\n",
        "\n",
        "#F1 score\n",
        "from sklearn.metrics import f1_score\n",
        "f1_score_svc = f1_score(y_test, y_pred, average='macro')\n",
        "print(f1_score_svc)\n",
        "\n",
        "# recall score\n",
        "from sklearn.metrics import recall_score\n",
        "recall_score_svc = recall_score(y_test, y_pred, average='macro')\n",
        "print(recall_score_svc)\n",
        "recall_score_svc = metrics.recall_score(y_test, y_pred, average='macro')\n",
        "print(recall_score_svc)\n",
        "\n",
        "#classification_report,confusion_matrix\n",
        "from sklearn.metrics import classification_report,confusion_matrix\n",
        "print(classification_report(y_test, y_pred))\n",
        "print(confusion_matrix(y_test, y_pred))\n",
        "\n"
      ],
      "metadata": {
        "id": "bImbF60g_5ct",
        "colab": {
          "base_uri": "https://localhost:8080/"
        },
        "outputId": "1853aa85-224c-4435-8fe7-aceaaf34f191"
      },
      "execution_count": null,
      "outputs": [
        {
          "output_type": "stream",
          "name": "stdout",
          "text": [
            "[1. 1. 1. ... 1. 2. 1.]\n",
            "RandomForestClassifier model accuracy(in %): 98.8\n",
            "RandomForestClassifier model accuracy(in %): 98.59500000000001\n",
            "RandomForestClassifier model accuracy(in %): 0.18901058171435892\n",
            "0.9577045254278082\n",
            "0.9523209791705947\n",
            "0.9470463330566957\n",
            "0.9470463330566957\n",
            "              precision    recall  f1-score   support\n",
            "\n",
            "         1.0       0.99      0.99      0.99      4439\n",
            "         2.0       1.00      0.98      0.99       330\n",
            "         3.0       0.88      0.86      0.87       231\n",
            "\n",
            "    accuracy                           0.99      5000\n",
            "   macro avg       0.96      0.95      0.95      5000\n",
            "weighted avg       0.99      0.99      0.99      5000\n",
            "\n",
            "[[4416    0   23]\n",
            " [   1  325    4]\n",
            " [  32    0  199]]\n"
          ]
        }
      ]
    },
    {
      "cell_type": "markdown",
      "source": [
        "## KNeighborsClassifier"
      ],
      "metadata": {
        "id": "utPbDUZl19Jb"
      }
    },
    {
      "cell_type": "code",
      "source": [
        "# import the libaray\n",
        "from sklearn import preprocessing\n",
        "from sklearn.model_selection import train_test_split\n",
        "from sklearn.neighbors import KNeighborsClassifier\n",
        "import matplotlib.pyplot as plt\n",
        "import seaborn as sns\n",
        "import pandas as pd\n",
        "\n",
        "# Read the CSV file '10000'\n",
        "data = pd.read_csv('/content/drive/MyDrive/PIAIC/mrlEyes_2018_01/data.csv')[50000:70000]\n",
        "#Scaler form\n",
        "from sklearn.preprocessing import StandardScaler\n",
        "\n",
        "def scale_data(data):\n",
        "    scaler = StandardScaler()\n",
        "    scaler.fit(data)\n",
        "    scaled_data = scaler.transform(data)\n",
        "    return scaled_data\n",
        "\n",
        "#Read the label csv file \n",
        "label = pd.read_csv('/content/drive/MyDrive/PIAIC/mrlEyes_2018_01/labels.csv')[50000:70000]\n",
        "y_sensor = label['sensor_id']\n",
        "#Label encoder \n",
        "from sklearn import preprocessing\n",
        "le = preprocessing.LabelEncoder()\n",
        "le.fit(y_sensor)\n",
        "z = le.transform(y_sensor)\n",
        "print(z)\n",
        "#split data \n",
        "x = data\n",
        "y = z\n",
        "\n",
        "#Train , Test and  Split data\n",
        "from sklearn.model_selection import train_test_split\n",
        "x_train,x_test,y_train,y_test=train_test_split(x,y,test_size=0.20, random_state = 1)\n",
        "\n",
        "#Fit the KNN model\n",
        "knn_clf=KNeighborsClassifier()\n",
        "knn_clf.fit(x_train,y_train)\n",
        "y_pred=knn_clf.predict(x_test) #These are the predicted output values\n",
        "\n",
        "# comparing actual response values (y_test) with predicted response values (y_pred)\n",
        "from sklearn import metrics\n",
        "print(\"KNeighborsClassifier model accuracy(in %):\", metrics.accuracy_score(y_test, y_pred)*100)\n",
        "\n",
        "#cross_val_score\n",
        "from sklearn.model_selection import cross_val_score\n",
        "accuracies = cross_val_score(estimator = knn_clf, X = x_train, y = y_train, cv = 10)\n",
        "print(\"KNeighborsClassifier model accuracy(in %):\", accuracies.mean()*100)\n",
        "print(\"KNeighborsClassifier model accuracy(in %):\", accuracies.std()*100)\n",
        "\n",
        "\n",
        "\n",
        "#precision_score\n",
        "from sklearn.metrics import precision_score\n",
        "precision_score_svc = precision_score(y_test, y_pred, average='macro')\n",
        "print(precision_score_svc)\n",
        "\n",
        "#F1 score\n",
        "from sklearn.metrics import f1_score\n",
        "f1_score_svc = f1_score(y_test, y_pred, average='macro')\n",
        "print(f1_score_svc)\n",
        "\n",
        "# recall score\n",
        "from sklearn.metrics import recall_score\n",
        "recall_score_svc = recall_score(y_test, y_pred, average='macro')\n",
        "print(recall_score_svc)\n",
        "recall_score_svc = metrics.recall_score(y_test, y_pred, average='macro')\n",
        "print(recall_score_svc)\n",
        "\n",
        "#classification_report,confusion_matrix\n",
        "from sklearn.metrics import classification_report,confusion_matrix\n",
        "print(classification_report(y_test, y_pred))\n",
        "print(confusion_matrix(y_test, y_pred))\n",
        "\n"
      ],
      "metadata": {
        "colab": {
          "base_uri": "https://localhost:8080/"
        },
        "id": "1Ch-wZRgrTQ0",
        "outputId": "2a3e51d8-b34f-49d4-bb38-8e8c4896d76f"
      },
      "execution_count": null,
      "outputs": [
        {
          "output_type": "stream",
          "name": "stdout",
          "text": [
            "[0 0 0 ... 0 0 0]\n",
            "KNeighborsClassifier model accuracy(in %): 99.7\n",
            "KNeighborsClassifier model accuracy(in %): 99.68125\n",
            "KNeighborsClassifier model accuracy(in %): 0.1592217400357132\n",
            "0.9971202758233446\n",
            "0.9969712075416932\n",
            "0.9968267553775596\n",
            "0.9968267553775596\n",
            "              precision    recall  f1-score   support\n",
            "\n",
            "           0       1.00      1.00      1.00      2192\n",
            "           1       1.00      1.00      1.00      1808\n",
            "\n",
            "    accuracy                           1.00      4000\n",
            "   macro avg       1.00      1.00      1.00      4000\n",
            "weighted avg       1.00      1.00      1.00      4000\n",
            "\n",
            "[[2189    3]\n",
            " [   9 1799]]\n"
          ]
        }
      ]
    },
    {
      "cell_type": "code",
      "source": [
        "# ccreate a graph for confusion matrix\n",
        "import numpy as np\n",
        "from sklearn.metrics import confusion_matrix\n",
        "import matplotlib.pyplot as plt\n",
        "import itertools\n",
        "\n",
        "def plot_confusion_matrix(cm, classes,\n",
        "                          normalize=False,\n",
        "                          title='Confusion matrix',\n",
        "                          cmap=plt.cm.Blues):\n",
        "    \"\"\"\n",
        "    This function prints and plots the confusion matrix.\n",
        "    Normalization can be applied by setting `normalize=True`.\n",
        "    \"\"\"\n",
        "    if normalize:\n",
        "        cm = cm.astype('float') / cm.sum(axis=1)[:, np.newaxis]\n",
        "        print(\"Normalized confusion matrix\")\n",
        "    else:\n",
        "        print('Confusion matrix, without normalization')\n",
        "\n",
        "    print(cm)\n",
        "\n",
        "    plt.imshow(cm, interpolation='nearest', cmap=cmap)\n",
        "    plt.title(title)\n",
        "    plt.colorbar()\n",
        "    tick_marks = np.arange(len(classes))\n",
        "    plt.xticks(tick_marks, classes, rotation=45)\n",
        "    plt.yticks(tick_marks, classes)\n",
        "\n",
        "    fmt = '.2f' if normalize else 'd'\n",
        "    thresh = cm.max() / 2.\n",
        "    for i, j in itertools.product(range(cm.shape[0]), range(cm.shape[1])):\n",
        "        plt.text(j, i, format(cm[i, j], fmt),\n",
        "                 horizontalalignment=\"center\",\n",
        "                 color=\"white\" if cm[i, j] > thresh else \"black\")\n",
        "\n",
        "    plt.tight_layout()\n",
        "    plt.ylabel('True label')\n",
        "    plt.xlabel('Predicted label')\n",
        "    \n",
        "plot_confusion_matrix(confusion_matrix(y_test, y_pred), classes=['Real_sensor','IDE',])"
      ],
      "metadata": {
        "colab": {
          "base_uri": "https://localhost:8080/",
          "height": 366
        },
        "id": "WODP0Gl8JwRC",
        "outputId": "57951e85-3fb5-4e93-8214-ca6fdb6683b8"
      },
      "execution_count": null,
      "outputs": [
        {
          "output_type": "stream",
          "name": "stdout",
          "text": [
            "Confusion matrix, without normalization\n",
            "[[2189    3]\n",
            " [   9 1799]]\n"
          ]
        },
        {
          "output_type": "display_data",
          "data": {
            "text/plain": [
              "<Figure size 432x288 with 2 Axes>"
            ],
            "image/png": "[encoded data removed]"
          },
          "metadata": {
            "needs_background": "light"
          }
        }
      ]
    },
    {
      "cell_type": "markdown",
      "source": [
        "##Image classification CVS file and Deep learning\n",
        "\n",
        "*   Import Libraries\n",
        "*   Read CSV files\n",
        "*   Split Data\n",
        "*   Train , Test and  Split dataset"
      ],
      "metadata": {
        "id": "oUlUfUKheZu9"
      }
    },
    {
      "cell_type": "code",
      "source": [
        "# Import the Libaray\n",
        "import pandas as pd\n",
        "import numpy as np\n",
        "from sklearn.metrics import accuracy_score\n",
        "from sklearn.preprocessing import StandardScaler\n",
        "from sklearn.model_selection import train_test_split\n",
        "\n",
        "\n",
        "# Read the CSV file '10000'\n",
        "data = pd.read_csv('/content/drive/MyDrive/PIAIC/mrlEyes_2018_01/data.csv')[45000:60000]\n",
        "# #Scaler form\n",
        "\n",
        "\n",
        "def scale_data(data):\n",
        "    scaler = StandardScaler()\n",
        "    scaler.fit(data)\n",
        "    scaled_data = scaler.transform(data)\n",
        "    return scaled_data\n",
        "\n",
        "# read label\n",
        "label = pd.read_csv('/content/drive/MyDrive/PIAIC/mrlEyes_2018_01/labels.csv')[45000:60000]\n",
        "\n",
        "#split data \n",
        "x = data\n",
        "y = label['eye_state']\n",
        "\n",
        "#Train , Test and  Split data\n",
        "\n",
        "x_train,x_test,y_train,y_test=train_test_split(x,y,test_size=0.20)"
      ],
      "metadata": {
        "id": "_DHVxGE-edJR"
      },
      "execution_count": null,
      "outputs": []
    },
    {
      "cell_type": "markdown",
      "source": [
        "##Model compliation\n",
        "\n",
        "\n",
        "*   Loss Function\n",
        "*   Optimizer\n",
        "*   Metrics\n",
        "\n"
      ],
      "metadata": {
        "id": "mw5_X2aeemQg"
      }
    },
    {
      "cell_type": "code",
      "source": [
        "from keras.models import Sequential\n",
        "from keras.layers import Dense\n",
        "\n",
        "model = Sequential([\n",
        "    Dense(32, activation='relu', input_shape=(6400,)),\n",
        "    Dense(32, activation='relu'),\n",
        "    Dense(1, activation='sigmoid'),\n",
        "    ])\n",
        "#compile the model\n",
        "model.compile(optimizer='sgd',\n",
        "              loss='binary_crossentropy',\n",
        "              metrics=['accuracy'])\n",
        "#fit the model\n",
        "history = model.fit(x_train, y_train,\n",
        "          batch_size=32, epochs=5,verbose = 1 , validation_split= 0.2)\n",
        "# evaluate model\n",
        "test_loss , test_acc = model.evaluate(x_test,y_test)\n",
        "print(test_acc)\n",
        "\n",
        "#predictions the model\n",
        "predictions = (model.predict(x_test)).astype(\"int32\")\n",
        "accuracy_score(y_test,predictions)\n",
        "pred = model.predict(x_test)\n",
        "print(pred)\n",
        "\n",
        "#Model History\n",
        "history.history\n",
        "\n",
        "import sklearn.metrics\n",
        "r = sklearn.metrics.confusion_matrix(y_test, predictions)\n",
        "print(r)"
      ],
      "metadata": {
        "colab": {
          "base_uri": "https://localhost:8080/"
        },
        "id": "cQNDVbSZeomm",
        "outputId": "89192bea-cf09-42d2-9c34-56cb82ce7161"
      },
      "execution_count": null,
      "outputs": [
        {
          "output_type": "stream",
          "name": "stdout",
          "text": [
            "Epoch 1/5\n",
            "300/300 [==============================] - 5s 6ms/step - loss: 21075.9043 - accuracy: 0.8628 - val_loss: 0.4726 - val_accuracy: 0.8788\n",
            "Epoch 2/5\n",
            "300/300 [==============================] - 1s 5ms/step - loss: 0.4452 - accuracy: 0.8682 - val_loss: 0.4083 - val_accuracy: 0.8788\n",
            "Epoch 3/5\n",
            "300/300 [==============================] - 1s 4ms/step - loss: 0.4098 - accuracy: 0.8682 - val_loss: 0.3864 - val_accuracy: 0.8788\n",
            "Epoch 4/5\n",
            "300/300 [==============================] - 1s 5ms/step - loss: 0.3976 - accuracy: 0.8682 - val_loss: 0.3776 - val_accuracy: 0.8788\n",
            "Epoch 5/5\n",
            "300/300 [==============================] - 1s 4ms/step - loss: 0.3929 - accuracy: 0.8682 - val_loss: 0.3737 - val_accuracy: 0.8788\n",
            "94/94 [==============================] - 1s 4ms/step - loss: 0.3887 - accuracy: 0.8700\n",
            "0.8700000047683716\n",
            "[[0.8459323]\n",
            " [0.8459323]\n",
            " [0.8459323]\n",
            " ...\n",
            " [0.8459323]\n",
            " [0.8459323]\n",
            " [0.8459323]]\n",
            "[[ 390    0]\n",
            " [2610    0]]\n"
          ]
        }
      ]
    },
    {
      "cell_type": "code",
      "source": [
        "import matplotlib.pyplot as plt\n",
        "\n",
        "\n",
        "# Plot training & validation accuracy values\n",
        "plt.plot(history.history['accuracy'])\n",
        "plt.plot(history.history['val_accuracy'])\n",
        "plt.title('Model accuracy')\n",
        "plt.ylabel('Accuracy')\n",
        "plt.xlabel('Epoch')\n",
        "plt.legend(['Train', 'Test'], loc='upper left')\n",
        "plt.show()\n"
      ],
      "metadata": {
        "colab": {
          "base_uri": "https://localhost:8080/",
          "height": 294
        },
        "id": "J0cDkvR-em08",
        "outputId": "0413d950-13a3-497d-89cc-eec5a7ad3931"
      },
      "execution_count": null,
      "outputs": [
        {
          "output_type": "display_data",
          "data": {
            "text/plain": [
              "<Figure size 432x288 with 1 Axes>"
            ],
            "image/png": "[encoded data removed]"
          },
          "metadata": {
            "needs_background": "light"
          }
        }
      ]
    },
    {
      "cell_type": "code",
      "source": [
        "!pip install h5py\n",
        "!pip install pickle-mixin\n",
        "\n",
        "#import library\n",
        "import pickle"
      ],
      "metadata": {
        "colab": {
          "base_uri": "https://localhost:8080/"
        },
        "id": "KV1jdYuIezAr",
        "outputId": "fe4f3e5b-62cd-4b61-977c-6dec696cee73"
      },
      "execution_count": null,
      "outputs": [
        {
          "output_type": "stream",
          "name": "stdout",
          "text": [
            "Requirement already satisfied: h5py in /usr/local/lib/python3.7/dist-packages (3.1.0)\n",
            "Requirement already satisfied: numpy>=1.14.5 in /usr/local/lib/python3.7/dist-packages (from h5py) (1.21.6)\n",
            "Requirement already satisfied: cached-property in /usr/local/lib/python3.7/dist-packages (from h5py) (1.5.2)\n",
            "Collecting pickle-mixin\n",
            "  Downloading pickle-mixin-1.0.2.tar.gz (5.1 kB)\n",
            "Building wheels for collected packages: pickle-mixin\n",
            "  Building wheel for pickle-mixin (setup.py) ... \u001b[?25l\u001b[?25hdone\n",
            "  Created wheel for pickle-mixin: filename=pickle_mixin-1.0.2-py3-none-any.whl size=6008 sha256=15506c3f9135c17cedca92ef58f275f7048501ddc0cb4416f51a42d772d0547f\n",
            "  Stored in directory: /root/.cache/pip/wheels/d0/70/0b/673e09a7ed429660d22352a1b117b4f616a8fc054bdd7eb157\n",
            "Successfully built pickle-mixin\n",
            "Installing collected packages: pickle-mixin\n",
            "Successfully installed pickle-mixin-1.0.2\n"
          ]
        }
      ]
    },
    {
      "cell_type": "code",
      "source": [
        "filename = 'Images_ML_Classifier_model.h5'\n",
        "pickle.dump(model, open(filename, 'wb'))"
      ],
      "metadata": {
        "colab": {
          "base_uri": "https://localhost:8080/"
        },
        "id": "DFXJJ8Dme7JX",
        "outputId": "7ac69ea8-6e9b-4bca-f686-92dd1410e2ed"
      },
      "execution_count": null,
      "outputs": [
        {
          "output_type": "stream",
          "name": "stdout",
          "text": [
            "INFO:tensorflow:Assets written to: ram://b5d29650-e39f-4f4e-8c7b-a3c4caf998e5/assets\n"
          ]
        }
      ]
    },
    {
      "cell_type": "code",
      "source": [],
      "metadata": {
        "id": "8SDU779gfTrp"
      },
      "execution_count": null,
      "outputs": []
    }
  ]
}